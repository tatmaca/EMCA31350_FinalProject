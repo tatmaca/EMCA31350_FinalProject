{
 "cells": [
  {
   "cell_type": "markdown",
   "id": "b3134ea1-d5ae-4e02-85d6-745f796a2391",
   "metadata": {},
   "source": [
    "# Testing DoubleML Package"
   ]
  },
  {
   "cell_type": "code",
   "execution_count": 3,
   "id": "da8c6049-f18a-4c0a-bc10-8bf5b119440f",
   "metadata": {},
   "outputs": [],
   "source": [
    "import numpy as np\n",
    "import import_ipynb\n",
    "from cleaning import *\n",
    "from doubleml import DoubleMLData"
   ]
  },
  {
   "cell_type": "code",
   "execution_count": 4,
   "id": "1cf4eb09-5a08-4de0-b548-948a1d37b5e9",
   "metadata": {},
   "outputs": [],
   "source": [
    "merged_df = pd.read_csv('final.csv')"
   ]
  },
  {
   "cell_type": "code",
   "execution_count": 20,
   "id": "723e7d64-2421-4ad9-846a-0c8c3cbe8fb8",
   "metadata": {},
   "outputs": [],
   "source": [
    "cols = merged_df.columns.tolist()\n",
    "covs = cols[:]\n",
    "#covs = [x for x in cols if x != 'RETIRE' or x != 'ANNMILES_mean_nonnegative']\n",
    "covs.remove('RETIRE')\n",
    "covs.remove('ANNMILES_mean_nonnegative')"
   ]
  },
  {
   "cell_type": "code",
   "execution_count": 21,
   "id": "b62da74a-74b6-4860-9d54-8f3618ffe278",
   "metadata": {},
   "outputs": [],
   "source": [
    "target = target[target['ANNMILES_sum'].notnull()]\n",
    "target.loc[target['LIF_CYC'] == 10, 'LIF_CYC'] = 1\n",
    "target.loc[target['LIF_CYC'] == 2, 'LIF_CYC'] = 0\n",
    "\n",
    "covars = ['HHFAMINC_IMP', 'HOMETYPE', 'URBRUR',\n",
    "              'CDIVMSAR', 'CENSUS_R', 'DRVRCNT', 'HHSIZE',\n",
    "              'HHVEHCNT', 'HH_HISP', 'HH_RACE', 'HOMEOWN',\n",
    "              'MSACAT', 'MSASIZE', 'RAIL', 'URBAN', 'URBANSIZE',\n",
    "              'WRKCOUNT', '', '']\n",
    "\n",
    "dml_target = DoubleMLData(merged_df,\n",
    "                            y_col = 'ANNMILES_mean_nonnegative',\n",
    "                            d_cols = 'RETIRE',\n",
    "                            x_cols = covs)"
   ]
  },
  {
   "cell_type": "code",
   "execution_count": 22,
   "id": "212a78e7-2bfe-46c0-80fd-8ec7fa253d39",
   "metadata": {},
   "outputs": [],
   "source": [
    "obs = len(merged_df)\n",
    "vars = 3\n",
    "theta = 3\n",
    "X = np.random.normal(size = (obs, vars))\n",
    "d = np.dot(X[:, :3], np.array([5, 5, 5])) + np.random.standard_normal(size = (obs, ))\n",
    "y = theta * d + np.dot(X[:, :3], np.array([5, 5, 5])) + np.random.standard_normal(size = (obs,))"
   ]
  },
  {
   "cell_type": "code",
   "execution_count": 23,
   "id": "fd99c36b-0a5b-432d-bef5-8b524fce818a",
   "metadata": {},
   "outputs": [
    {
     "name": "stdout",
     "output_type": "stream",
     "text": [
      "================== DoubleMLData Object ==================\n",
      "\n",
      "------------------ Data summary      ------------------\n",
      "Outcome variable: ANNMILES_mean_nonnegative\n",
      "Treatment variable(s): ['RETIRE']\n",
      "Covariates: ['HHFAMINC_IMP', 'HOMETYPE', 'URBRUR_2010', 'CDIVMSAR', 'CENSUS_R', 'DRVRCNT', 'HHSIZE', 'HHVEHCNT', 'HH_HISP', 'HH_RACE', 'HOMEOWN', 'MSACAT', 'MSASIZE', 'RAIL', 'URBAN', 'URBANSIZE', 'URBRUR', 'WRKCOUNT', 'COMMERCIALFREQ_mean_nonnegative', 'VEHAGE_mean', 'EDUC_amin', 'FRSTHM_amin', 'OUTOFTWN_amin', 'EDUC_amax', 'DELIVER_sum_nonnegative', 'DELIV_FOOD_sum_nonnegative', 'DELIV_GOOD_sum_nonnegative', 'DELIV_GROC_sum_nonnegative', 'DELIV_PERS_sum_nonnegative', 'EMPLOYMENT2_mean_nonnegative', 'ESCOOTERUSED_mean_nonnegative', 'GCDWORK_mean_nonnegative', 'MCTRANSIT_mean_nonnegative', 'MEDCOND6_mean_nonnegative', 'PTUSED_mean_nonnegative', 'RIDESHARE22_mean_nonnegative', 'R_AGE_mean_nonnegative', 'TAXISERVICE_mean_nonnegative', 'WALKTRANSIT_mean_nonnegative', 'WKFMHM22_mean_nonnegative', 'CONDNIGH_min_nonnegative', 'CONDNONE_min_nonnegative', 'CONDPUB_min_nonnegative', 'CONDRF_min_nonnegative', 'CONDRIDE_min_nonnegative', 'CONDRIVE_min_nonnegative', 'CONDSHARE_min_nonnegative', 'CONDSPEC_min_nonnegative', 'CONDTRAV_min_nonnegative', 'COV1_OHD_min_nonnegative', 'COV1_PT_min_nonnegative', 'COV1_SCH_min_nonnegative', 'COV1_WK_min_nonnegative', 'COV2_OHD_min_nonnegative', 'COV2_PT_min_nonnegative', 'COV2_SCH_min_nonnegative', 'COV2_WK_min_nonnegative', 'DRIVER_min_nonnegative', 'DRIVINGOCCUPATION_min_nonnegative', 'EMPPASS_min_nonnegative', 'LAST30_BIKE_min_nonnegative', 'LAST30_BKSHR_min_nonnegative', 'LAST30_ESCT_min_nonnegative', 'LAST30_MTRC_min_nonnegative', 'LAST30_PT_min_nonnegative', 'LAST30_RDSHR_min_nonnegative', 'LAST30_TAXI_min_nonnegative', 'LAST30_WALK_min_nonnegative', 'MEDCOND_min_nonnegative', 'PARK_min_nonnegative', 'PAYPROF_min_nonnegative', 'QACSLAN1_min_nonnegative', 'QACSLAN3_min_nonnegative', 'R_HISP_min_nonnegative', 'R_RELAT_min_nonnegative', 'TRNPASS_min_nonnegative', 'USAGE1_min_nonnegative', 'USAGE2_1_min_nonnegative', 'USAGE2_10_min_nonnegative', 'USAGE2_2_min_nonnegative', 'USAGE2_3_min_nonnegative', 'USAGE2_4_min_nonnegative', 'USAGE2_5_min_nonnegative', 'USAGE2_6_min_nonnegative', 'USAGE2_7_min_nonnegative', 'USAGE2_8_min_nonnegative', 'USAGE2_9_min_nonnegative', 'USEPUBTR_min_nonnegative', 'W_CANE_min_nonnegative', 'W_CHAIR_min_nonnegative', 'W_NONE_min_nonnegative', 'W_SCCH_min_nonnegative', 'W_VISIMP_min_nonnegative', 'W_WKCR_min_nonnegative', 'DRIVINGVEHICLE_-1_PROP', 'DRIVINGVEHICLE_1_PROP', 'DRIVINGVEHICLE_2_PROP', 'DRIVINGVEHICLE_3_PROP', 'PRMACT_-1_PROP', 'PRMACT_1_PROP', 'PRMACT_2_PROP', 'PRMACT_3_PROP', 'PRMACT_4_PROP', 'PRMACT_5_PROP', 'PRMACT_97_PROP', 'R_RACE_IMP_1_PROP', 'R_RACE_IMP_2_PROP', 'R_RACE_IMP_3_PROP', 'R_RACE_IMP_4_PROP', 'R_RACE_IMP_5_PROP', 'R_RACE_IMP_6_PROP', 'R_RACE_IMP_97_PROP', 'R_SEX_IMP_1_PROP', 'R_SEX_IMP_2_PROP', 'WORKER_1_PROP', 'WORKER_2_PROP', 'WRKLOC_-1_PROP', 'WRKLOC_1_PROP', 'WRKLOC_2_PROP', 'WRKLOC_3_PROP', 'WRKLOC_4_PROP', 'SINGLE']\n",
      "Instrument variable(s): None\n",
      "No. Observations: 2363\n",
      "\n",
      "------------------ DataFrame info    ------------------\n",
      "<class 'pandas.core.frame.DataFrame'>\n",
      "RangeIndex: 2363 entries, 0 to 2362\n",
      "Columns: 124 entries, HHFAMINC_IMP to SINGLE\n",
      "dtypes: bool(2), float64(41), int64(81)\n",
      "memory usage: 2.2 MB\n",
      "\n"
     ]
    }
   ],
   "source": [
    "print(dml_target)"
   ]
  },
  {
   "cell_type": "code",
   "execution_count": 28,
   "id": "9772aa43-757d-4ffb-92f7-4b7e61af5585",
   "metadata": {},
   "outputs": [],
   "source": [
    "from sklearn.base import clone\n",
    "from sklearn.ensemble import RandomForestRegressor\n",
    "from sklearn.linear_model import LassoCV\n",
    "\n",
    "learner = RandomForestRegressor(n_estimators = obs, max_features = 'sqrt', max_depth = 10)\n",
    "ml_l_target = clone(learner)\n",
    "ml_m_target = clone(learner)\n",
    "\n",
    "learner = LassoCV()\n",
    "ml_l_sim = clone(learner)\n",
    "ml_m_sim = clone(learner)"
   ]
  },
  {
   "cell_type": "code",
   "execution_count": 29,
   "id": "ef3357d1-6777-4aed-9eba-d298b764106a",
   "metadata": {},
   "outputs": [
    {
     "name": "stdout",
     "output_type": "stream",
     "text": [
      "================== DoubleMLPLR Object ==================\n",
      "\n",
      "------------------ Data summary      ------------------\n",
      "Outcome variable: ANNMILES_mean_nonnegative\n",
      "Treatment variable(s): ['RETIRE']\n",
      "Covariates: ['HHFAMINC_IMP', 'HOMETYPE', 'URBRUR_2010', 'CDIVMSAR', 'CENSUS_R', 'DRVRCNT', 'HHSIZE', 'HHVEHCNT', 'HH_HISP', 'HH_RACE', 'HOMEOWN', 'MSACAT', 'MSASIZE', 'RAIL', 'URBAN', 'URBANSIZE', 'URBRUR', 'WRKCOUNT', 'COMMERCIALFREQ_mean_nonnegative', 'VEHAGE_mean', 'EDUC_amin', 'FRSTHM_amin', 'OUTOFTWN_amin', 'EDUC_amax', 'DELIVER_sum_nonnegative', 'DELIV_FOOD_sum_nonnegative', 'DELIV_GOOD_sum_nonnegative', 'DELIV_GROC_sum_nonnegative', 'DELIV_PERS_sum_nonnegative', 'EMPLOYMENT2_mean_nonnegative', 'ESCOOTERUSED_mean_nonnegative', 'GCDWORK_mean_nonnegative', 'MCTRANSIT_mean_nonnegative', 'MEDCOND6_mean_nonnegative', 'PTUSED_mean_nonnegative', 'RIDESHARE22_mean_nonnegative', 'R_AGE_mean_nonnegative', 'TAXISERVICE_mean_nonnegative', 'WALKTRANSIT_mean_nonnegative', 'WKFMHM22_mean_nonnegative', 'CONDNIGH_min_nonnegative', 'CONDNONE_min_nonnegative', 'CONDPUB_min_nonnegative', 'CONDRF_min_nonnegative', 'CONDRIDE_min_nonnegative', 'CONDRIVE_min_nonnegative', 'CONDSHARE_min_nonnegative', 'CONDSPEC_min_nonnegative', 'CONDTRAV_min_nonnegative', 'COV1_OHD_min_nonnegative', 'COV1_PT_min_nonnegative', 'COV1_SCH_min_nonnegative', 'COV1_WK_min_nonnegative', 'COV2_OHD_min_nonnegative', 'COV2_PT_min_nonnegative', 'COV2_SCH_min_nonnegative', 'COV2_WK_min_nonnegative', 'DRIVER_min_nonnegative', 'DRIVINGOCCUPATION_min_nonnegative', 'EMPPASS_min_nonnegative', 'LAST30_BIKE_min_nonnegative', 'LAST30_BKSHR_min_nonnegative', 'LAST30_ESCT_min_nonnegative', 'LAST30_MTRC_min_nonnegative', 'LAST30_PT_min_nonnegative', 'LAST30_RDSHR_min_nonnegative', 'LAST30_TAXI_min_nonnegative', 'LAST30_WALK_min_nonnegative', 'MEDCOND_min_nonnegative', 'PARK_min_nonnegative', 'PAYPROF_min_nonnegative', 'QACSLAN1_min_nonnegative', 'QACSLAN3_min_nonnegative', 'R_HISP_min_nonnegative', 'R_RELAT_min_nonnegative', 'TRNPASS_min_nonnegative', 'USAGE1_min_nonnegative', 'USAGE2_1_min_nonnegative', 'USAGE2_10_min_nonnegative', 'USAGE2_2_min_nonnegative', 'USAGE2_3_min_nonnegative', 'USAGE2_4_min_nonnegative', 'USAGE2_5_min_nonnegative', 'USAGE2_6_min_nonnegative', 'USAGE2_7_min_nonnegative', 'USAGE2_8_min_nonnegative', 'USAGE2_9_min_nonnegative', 'USEPUBTR_min_nonnegative', 'W_CANE_min_nonnegative', 'W_CHAIR_min_nonnegative', 'W_NONE_min_nonnegative', 'W_SCCH_min_nonnegative', 'W_VISIMP_min_nonnegative', 'W_WKCR_min_nonnegative', 'DRIVINGVEHICLE_-1_PROP', 'DRIVINGVEHICLE_1_PROP', 'DRIVINGVEHICLE_2_PROP', 'DRIVINGVEHICLE_3_PROP', 'PRMACT_-1_PROP', 'PRMACT_1_PROP', 'PRMACT_2_PROP', 'PRMACT_3_PROP', 'PRMACT_4_PROP', 'PRMACT_5_PROP', 'PRMACT_97_PROP', 'R_RACE_IMP_1_PROP', 'R_RACE_IMP_2_PROP', 'R_RACE_IMP_3_PROP', 'R_RACE_IMP_4_PROP', 'R_RACE_IMP_5_PROP', 'R_RACE_IMP_6_PROP', 'R_RACE_IMP_97_PROP', 'R_SEX_IMP_1_PROP', 'R_SEX_IMP_2_PROP', 'WORKER_1_PROP', 'WORKER_2_PROP', 'WRKLOC_-1_PROP', 'WRKLOC_1_PROP', 'WRKLOC_2_PROP', 'WRKLOC_3_PROP', 'WRKLOC_4_PROP', 'SINGLE']\n",
      "Instrument variable(s): None\n",
      "No. Observations: 2363\n",
      "\n",
      "------------------ Score & algorithm ------------------\n",
      "Score function: partialling out\n",
      "DML algorithm: dml2\n",
      "\n",
      "------------------ Machine learner   ------------------\n",
      "Learner ml_l: RandomForestRegressor(max_depth=10, max_features='sqrt', n_estimators=2363)\n",
      "Learner ml_m: RandomForestRegressor(max_depth=10, max_features='sqrt', n_estimators=2363)\n",
      "Out-of-sample Performance:\n",
      "Learner ml_l RMSE: [[20385.72676284]]\n",
      "Learner ml_m RMSE: [[0.17973158]]\n",
      "\n",
      "------------------ Resampling        ------------------\n",
      "No. folds: 5\n",
      "No. repeated sample splits: 1\n",
      "Apply cross-fitting: True\n",
      "\n",
      "------------------ Fit summary       ------------------\n",
      "               coef      std err         t     P>|t|       2.5 %       97.5 %\n",
      "RETIRE  5237.204359  2238.381163  2.339729  0.019298  850.057895  9624.350823\n"
     ]
    }
   ],
   "source": [
    "from doubleml import DoubleMLPLR\n",
    "\n",
    "np.random.seed(20020107)\n",
    "\n",
    "obj_dml_plr_target = DoubleMLPLR(dml_target, ml_l_target, ml_m_target)\n",
    "obj_dml_plr_target.fit()\n",
    "print(obj_dml_plr_target)"
   ]
  }
 ],
 "metadata": {
  "kernelspec": {
   "display_name": "Python 3 (ipykernel)",
   "language": "python",
   "name": "python3"
  },
  "language_info": {
   "codemirror_mode": {
    "name": "ipython",
    "version": 3
   },
   "file_extension": ".py",
   "mimetype": "text/x-python",
   "name": "python",
   "nbconvert_exporter": "python",
   "pygments_lexer": "ipython3",
   "version": "3.11.2"
  }
 },
 "nbformat": 4,
 "nbformat_minor": 5
}
