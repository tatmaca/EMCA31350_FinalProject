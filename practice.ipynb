{
 "cells": [
  {
   "cell_type": "markdown",
   "id": "b3134ea1-d5ae-4e02-85d6-745f796a2391",
   "metadata": {},
   "source": [
    "# Testing DoubleML Package"
   ]
  },
  {
   "cell_type": "code",
   "execution_count": 54,
   "id": "da8c6049-f18a-4c0a-bc10-8bf5b119440f",
   "metadata": {},
   "outputs": [],
   "source": [
    "import numpy as np\n",
    "import import_ipynb\n",
    "from cleaning import *\n",
    "from doubleml import DoubleMLData"
   ]
  },
  {
   "cell_type": "code",
   "execution_count": 69,
   "id": "b62da74a-74b6-4860-9d54-8f3618ffe278",
   "metadata": {},
   "outputs": [],
   "source": [
    "target = target[target['ANNMILES_sum'].notnull()]\n",
    "target.loc[target['LIF_CYC'] == 10, 'LIF_CYC'] = 1\n",
    "target.loc[target['LIF_CYC'] == 2, 'LIF_CYC'] = 0\n",
    "\n",
    "dml_target = DoubleMLData(target,\n",
    "                            y_col = 'ANNMILES_sum',\n",
    "                            d_cols = 'LIF_CYC',\n",
    "                            x_cols = ['HHSIZE', 'HOMEOWN', 'HH_HISP', \n",
    "                                      'DRVRCNT', 'HH_RACE', 'TRAVDAY',\n",
    "                                      'URBAN', 'WRKCOUNT'])"
   ]
  },
  {
   "cell_type": "code",
   "execution_count": 70,
   "id": "212a78e7-2bfe-46c0-80fd-8ec7fa253d39",
   "metadata": {},
   "outputs": [],
   "source": [
    "obs = len(target)\n",
    "vars = 3\n",
    "theta = 3\n",
    "X = np.random.normal(size = (obs, vars))\n",
    "d = np.dot(X[:, :3], np.array([5, 5, 5])) + np.random.standard_normal(size = (obs, ))\n",
    "y = theta * d + np.dot(X[:, :3], np.array([5, 5, 5])) + np.random.standard_normal(size = (obs,))"
   ]
  },
  {
   "cell_type": "code",
   "execution_count": 73,
   "id": "fd99c36b-0a5b-432d-bef5-8b524fce818a",
   "metadata": {},
   "outputs": [
    {
     "name": "stdout",
     "output_type": "stream",
     "text": [
      "================== DoubleMLData Object ==================\n",
      "\n",
      "------------------ Data summary      ------------------\n",
      "Outcome variable: ANNMILES_sum\n",
      "Treatment variable(s): ['LIF_CYC']\n",
      "Covariates: ['HHSIZE', 'HOMEOWN', 'HH_HISP', 'DRVRCNT', 'HH_RACE', 'TRAVDAY', 'URBAN', 'WRKCOUNT']\n",
      "Instrument variable(s): None\n",
      "No. Observations: 1473\n",
      "\n",
      "------------------ DataFrame info    ------------------\n",
      "<class 'pandas.core.frame.DataFrame'>\n",
      "Int64Index: 1473 entries, 0 to 1493\n",
      "Columns: 36 entries, HOUSEID to ANNMILES_sum\n",
      "dtypes: float64(4), int64(32)\n",
      "memory usage: 425.8 KB\n",
      "\n"
     ]
    }
   ],
   "source": [
    "print(dml_target)"
   ]
  },
  {
   "cell_type": "code",
   "execution_count": 76,
   "id": "9772aa43-757d-4ffb-92f7-4b7e61af5585",
   "metadata": {},
   "outputs": [],
   "source": [
    "from sklearn.base import clone\n",
    "from sklearn.ensemble import RandomForestRegressor\n",
    "from sklearn.linear_model import LassoCV\n",
    "\n",
    "learner = RandomForestRegressor(n_estimators = obs, max_features = 'log2', max_depth = 5)\n",
    "ml_l_target = clone(learner)\n",
    "ml_m_target = clone(learner)\n",
    "\n",
    "learner = LassoCV()\n",
    "ml_l_sim = clone(learner)\n",
    "ml_m_sim = clone(learner)"
   ]
  },
  {
   "cell_type": "code",
   "execution_count": 77,
   "id": "ef3357d1-6777-4aed-9eba-d298b764106a",
   "metadata": {},
   "outputs": [
    {
     "name": "stdout",
     "output_type": "stream",
     "text": [
      "================== DoubleMLPLR Object ==================\n",
      "\n",
      "------------------ Data summary      ------------------\n",
      "Outcome variable: ANNMILES_sum\n",
      "Treatment variable(s): ['LIF_CYC']\n",
      "Covariates: ['HHSIZE', 'HOMEOWN', 'HH_HISP', 'DRVRCNT', 'HH_RACE', 'TRAVDAY', 'URBAN', 'WRKCOUNT']\n",
      "Instrument variable(s): None\n",
      "No. Observations: 1473\n",
      "\n",
      "------------------ Score & algorithm ------------------\n",
      "Score function: partialling out\n",
      "DML algorithm: dml2\n",
      "\n",
      "------------------ Machine learner   ------------------\n",
      "Learner ml_l: RandomForestRegressor(max_depth=5, max_features='log2', n_estimators=1473)\n",
      "Learner ml_m: RandomForestRegressor(max_depth=5, max_features='log2', n_estimators=1473)\n",
      "Out-of-sample Performance:\n",
      "Learner ml_l RMSE: [[38181.94926839]]\n",
      "Learner ml_m RMSE: [[0.34714015]]\n",
      "\n",
      "------------------ Resampling        ------------------\n",
      "No. folds: 5\n",
      "No. repeated sample splits: 1\n",
      "Apply cross-fitting: True\n",
      "\n",
      "------------------ Fit summary       ------------------\n",
      "                coef      std err         t     P>|t|       2.5 %       97.5 %\n",
      "LIF_CYC  1891.003548  1883.234482  1.004125  0.315318 -1800.06821  5582.075306\n"
     ]
    }
   ],
   "source": [
    "from doubleml import DoubleMLPLR\n",
    "\n",
    "np.random.seed(20020107)\n",
    "\n",
    "obj_dml_plr_target = DoubleMLPLR(dml_target, ml_l_target, ml_m_target)\n",
    "obj_dml_plr_target.fit()\n",
    "print(obj_dml_plr_target)"
   ]
  }
 ],
 "metadata": {
  "kernelspec": {
   "display_name": "Python 3 (ipykernel)",
   "language": "python",
   "name": "python3"
  },
  "language_info": {
   "codemirror_mode": {
    "name": "ipython",
    "version": 3
   },
   "file_extension": ".py",
   "mimetype": "text/x-python",
   "name": "python",
   "nbconvert_exporter": "python",
   "pygments_lexer": "ipython3",
   "version": "3.11.2"
  }
 },
 "nbformat": 4,
 "nbformat_minor": 5
}
